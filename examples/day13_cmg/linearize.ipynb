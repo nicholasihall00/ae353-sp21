{
 "cells": [
  {
   "cell_type": "code",
   "execution_count": 1,
   "id": "answering-poverty",
   "metadata": {},
   "outputs": [],
   "source": [
    "import numpy as np\n",
    "import sympy as sym\n",
    "np.set_printoptions(suppress=True)"
   ]
  },
  {
   "cell_type": "code",
   "execution_count": 2,
   "id": "advanced-architecture",
   "metadata": {},
   "outputs": [],
   "source": [
    "q, v, tau = sym.symbols('q, v, tau')"
   ]
  },
  {
   "cell_type": "code",
   "execution_count": 3,
   "id": "undefined-developer",
   "metadata": {},
   "outputs": [],
   "source": [
    "f = sym.Matrix([[v], [-(9./4.) * v - 10 * sym.sin(q) + tau]])"
   ]
  },
  {
   "cell_type": "code",
   "execution_count": 4,
   "id": "returning-browser",
   "metadata": {},
   "outputs": [],
   "source": [
    "q_e = -0.8\n",
    "v_e = 0.\n",
    "tau_e = 0."
   ]
  },
  {
   "cell_type": "code",
   "execution_count": 5,
   "id": "alike-springfield",
   "metadata": {},
   "outputs": [
    {
     "data": {
      "text/plain": [
       "array([[0.        ],\n",
       "       [7.17356091]])"
      ]
     },
     "execution_count": 5,
     "metadata": {},
     "output_type": "execute_result"
    }
   ],
   "source": [
    "f_num = sym.lambdify((q, v, tau), f)\n",
    "f_num(q_e, v_e, tau_e)"
   ]
  },
  {
   "cell_type": "code",
   "execution_count": 7,
   "id": "distinct-austria",
   "metadata": {},
   "outputs": [
    {
     "data": {
      "text/latex": [
       "$\\displaystyle \\left[\\begin{matrix}0 & 1\\\\- 10 \\cos{\\left(q \\right)} & -2.25\\end{matrix}\\right]$"
      ],
      "text/plain": [
       "Matrix([\n",
       "[         0,     1],\n",
       "[-10*cos(q), -2.25]])"
      ]
     },
     "execution_count": 7,
     "metadata": {},
     "output_type": "execute_result"
    }
   ],
   "source": [
    "f.jacobian([q,v])"
   ]
  },
  {
   "cell_type": "code",
   "execution_count": 8,
   "id": "several-disaster",
   "metadata": {},
   "outputs": [
    {
     "name": "stdout",
     "output_type": "stream",
     "text": [
      "[[0.0, 1.0], [-6.967067093471654, -2.25]]\n"
     ]
    }
   ],
   "source": [
    "A_num = sym.lambdify((q, v, tau), f.jacobian([q, v]))\n",
    "A = A_num(q_e, v_e, tau_e)\n",
    "print(A.tolist())"
   ]
  },
  {
   "cell_type": "code",
   "execution_count": 9,
   "id": "proved-confidence",
   "metadata": {},
   "outputs": [
    {
     "name": "stdout",
     "output_type": "stream",
     "text": [
      "[[0], [1]]\n"
     ]
    }
   ],
   "source": [
    "C_num = sym.lambdify((q, v, tau), f.jacobian([tau]))\n",
    "B = B_num(q_e, v_e, tau_e)\n",
    "print(B.tolist())"
   ]
  },
  {
   "cell_type": "code",
   "execution_count": null,
   "id": "casual-singapore",
   "metadata": {},
   "outputs": [],
   "source": []
  }
 ],
 "metadata": {
  "kernelspec": {
   "display_name": "Python (ae353-bullet)",
   "language": "python",
   "name": "ae353-bullet"
  },
  "language_info": {
   "codemirror_mode": {
    "name": "ipython",
    "version": 3
   },
   "file_extension": ".py",
   "mimetype": "text/x-python",
   "name": "python",
   "nbconvert_exporter": "python",
   "pygments_lexer": "ipython3",
   "version": "3.9.1"
  }
 },
 "nbformat": 4,
 "nbformat_minor": 5
}
